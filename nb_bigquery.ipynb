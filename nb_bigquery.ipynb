{
 "cells": [
  {
   "cell_type": "code",
   "execution_count": 8,
   "metadata": {},
   "outputs": [],
   "source": [
    "from google.cloud import bigquery\n",
    "import requests\n",
    "import os\n",
    "import datetime"
   ]
  },
  {
   "cell_type": "code",
   "execution_count": 3,
   "metadata": {},
   "outputs": [],
   "source": [
    "project_id = \"parkings-mel\"\n",
    "dataset_id = \"parkings_mel\"\n",
    "\n",
    "os.environ[\"GOOGLE_APPLICATION_CREDENTIALS\"] = \"key.json\""
   ]
  },
  {
   "cell_type": "code",
   "execution_count": 4,
   "metadata": {},
   "outputs": [],
   "source": [
    "client = bigquery.Client()"
   ]
  },
  {
   "cell_type": "code",
   "execution_count": 7,
   "metadata": {},
   "outputs": [
    {
     "name": "stdout",
     "output_type": "stream",
     "text": [
      "Created table parkings-mel.parkings_mel.parkings\n"
     ]
    }
   ],
   "source": [
    "# Create a 'parkings' table\n",
    "table_id = project_id + '.' + dataset_id + '.parkings'\n",
    "\n",
    "parkings_schema = [\n",
    "    bigquery.SchemaField(\"id\",          \"STRING\"),\n",
    "    bigquery.SchemaField(\"name\",        \"STRING\"),\n",
    "    bigquery.SchemaField(\"adress\",      \"STRING\"),\n",
    "    bigquery.SchemaField(\"city\",        \"STRING\"),\n",
    "    bigquery.SchemaField(\"longitude\",   \"FLOAT64\"),\n",
    "    bigquery.SchemaField(\"latitude\",    \"FLOAT64\"),\n",
    "]\n",
    "table = bigquery.Table(table_id, schema=parkings_schema)\n",
    "table = client.create_table(table)\n",
    "print(\n",
    "    \"Created table {}.{}.{}\".format(table.project, table.dataset_id, table.table_id)\n",
    ")\n"
   ]
  },
  {
   "cell_type": "code",
   "execution_count": 8,
   "metadata": {},
   "outputs": [
    {
     "name": "stdout",
     "output_type": "stream",
     "text": [
      "Created table parkings-mel.parkings_mel.records\n"
     ]
    }
   ],
   "source": [
    "# Create a 'records' table\n",
    "table_id = project_id + '.' + dataset_id + '.records'\n",
    "record_schema = [\n",
    "    bigquery.SchemaField(\"station_id\",              \"STRING\"),\n",
    "    bigquery.SchemaField(\"state\",                   \"STRING\"),\n",
    "    bigquery.SchemaField(\"available\",               \"INT64\"),\n",
    "    bigquery.SchemaField(\"max\",                     \"INT64\"),\n",
    "    bigquery.SchemaField(\"display\",                 \"STRING\"),\n",
    "    bigquery.SchemaField(\"last_update\",             \"TIMESTAMP\"),\n",
    "    bigquery.SchemaField(\"record_timestamp\",        \"TIMESTAMP\"),\n",
    "]\n",
    "table = bigquery.Table(table_id, schema=record_schema)\n",
    "table = client.create_table(table)\n",
    "print(\n",
    "    \"Created table {}.{}.{}\".format(table.project, table.dataset_id, table.table_id)\n",
    ")\n"
   ]
  },
  {
   "cell_type": "code",
   "execution_count": 5,
   "metadata": {},
   "outputs": [],
   "source": [
    "# request the data from the API\n",
    "url = \"https://metropole-europeenne-de-lille.opendatasoft.com/api/explore/v2.1/catalog/datasets/disponibilite-parkings/records?limit=100\"\n",
    "response = requests.get(url)\n",
    "data = response.json()"
   ]
  },
  {
   "cell_type": "code",
   "execution_count": 12,
   "metadata": {},
   "outputs": [],
   "source": [
    "# create a dict to insert into bigquery parkings (dim) table\n",
    "dict_to_insert = []\n",
    "for record in data['results']:\n",
    "    dict_to_insert.append({\n",
    "        \"id\": record['id'],\n",
    "        \"name\": record['libelle'],\n",
    "        \"adress\": record['adresse'],\n",
    "        \"city\": record['ville'],\n",
    "        \"longitude\": record['geometry']['geometry']['coordinates'][0],\n",
    "        \"latitude\": record['geometry']['geometry']['coordinates'][1],\n",
    "    })"
   ]
  },
  {
   "cell_type": "code",
   "execution_count": 14,
   "metadata": {},
   "outputs": [
    {
     "name": "stdout",
     "output_type": "stream",
     "text": [
      "New rows have been added.\n"
     ]
    }
   ],
   "source": [
    "# insert dict into bigquery parkings table\n",
    "table_id = project_id + '.' + dataset_id + '.parkings'\n",
    "try:\n",
    "    table = client.get_table(table_id)\n",
    "    errors = client.insert_rows(table, dict_to_insert)\n",
    "    if errors == []:\n",
    "        print(\"New rows have been added.\")\n",
    "    else:\n",
    "        print(\"Encountered errors while inserting rows: {}\".format(errors))\n",
    "except Exception as e:\n",
    "    print(e)\n",
    "    print(\"Error while inserting rows into the parkings table\")\n"
   ]
  },
  {
   "cell_type": "code",
   "execution_count": 15,
   "metadata": {},
   "outputs": [
    {
     "name": "stdout",
     "output_type": "stream",
     "text": [
      "Row(('LIL0012', 'Parking Rihour-Printemps', 'Place Rihour', 'Lille', 3.0613622559941, 50.635431974724), {'id': 0, 'name': 1, 'adress': 2, 'city': 3, 'longitude': 4, 'latitude': 5})\n",
      "Row(('TCG0003', 'Parking St Christophe', 'Rue des Anges', 'Tourcoing', 3.1563648534293, 50.719799610647), {'id': 0, 'name': 1, 'adress': 2, 'city': 3, 'longitude': 4, 'latitude': 5})\n",
      "Row(('LIL0006', 'Parking Euralille', '164 Avenue Willy Brandt', 'Lille', 3.0730712109881, 50.636803300033), {'id': 0, 'name': 1, 'adress': 2, 'city': 3, 'longitude': 4, 'latitude': 5})\n",
      "Row(('TCG0001', 'Parking Hotel de Ville', 'Rue de la Bienfaisance', 'Tourcoing', 3.1588907023137, 50.725413845879), {'id': 0, 'name': 1, 'adress': 2, 'city': 3, 'longitude': 4, 'latitude': 5})\n",
      "Row(('LIL0005', 'Parking Gare Lille Flandres', 'Rue de Tournai', 'Lille', 3.0724327352937, 50.634836454356), {'id': 0, 'name': 1, 'adress': 2, 'city': 3, 'longitude': 4, 'latitude': 5})\n"
     ]
    }
   ],
   "source": [
    "# query to check if the data has been inserted\n",
    "query = \"\"\"\n",
    "    SELECT *\n",
    "    FROM `parkings-mel.parkings_mel.parkings`\n",
    "    LIMIT 5\n",
    "\"\"\"\n",
    "query_job = client.query(query)\n",
    "results = query_job.result()\n",
    "for row in results:\n",
    "    print(row)"
   ]
  },
  {
   "cell_type": "code",
   "execution_count": 10,
   "metadata": {},
   "outputs": [],
   "source": [
    "# request the data from the API\n",
    "url = \"https://metropole-europeenne-de-lille.opendatasoft.com/api/explore/v2.1/catalog/datasets/disponibilite-parkings/records?limit=100\"\n",
    "response = requests.get(url)\n",
    "data = response.json()\n",
    "\n",
    "# dict to insert into bigquery records (fact) table\n",
    "dict_to_insert = []\n",
    "for record in data['results']:\n",
    "    dict_to_insert.append({\n",
    "        \"station_id\": record['id'],\n",
    "        \"state\": record['etat'],\n",
    "        \"available\": record['dispo'],\n",
    "        \"max\": record['max'],\n",
    "        \"display\": record['aff'],\n",
    "        \"last_update\": record['datemaj'],\n",
    "        \"record_timestamp\": datetime.datetime.now()\n",
    "    })"
   ]
  },
  {
   "cell_type": "code",
   "execution_count": 12,
   "metadata": {},
   "outputs": [
    {
     "name": "stdout",
     "output_type": "stream",
     "text": [
      "New rows have been added.\n"
     ]
    }
   ],
   "source": [
    "# Try to insert a record into the records table\n",
    "table_id = project_id + '.' + dataset_id + '.records'\n",
    "try:\n",
    "    table = client.get_table(table_id)\n",
    "    errors = client.insert_rows(table, dict_to_insert)\n",
    "    if errors == []:\n",
    "        print(\"New rows have been added.\")\n",
    "    else:\n",
    "        print(\"Encountered errors while inserting rows: {}\".format(errors))\n",
    "except Exception as e:\n",
    "    print(e)\n",
    "    print(\"Error while inserting rows into the records table\")"
   ]
  },
  {
   "cell_type": "code",
   "execution_count": 13,
   "metadata": {},
   "outputs": [
    {
     "name": "stdout",
     "output_type": "stream",
     "text": [
      "Row(('test', 'test', 1, 1, 'test', datetime.datetime(2021, 1, 1, 0, 0, tzinfo=datetime.timezone.utc), datetime.datetime(2021, 1, 1, 0, 0, tzinfo=datetime.timezone.utc)), {'station_id': 0, 'state': 1, 'available': 2, 'max': 3, 'display': 4, 'last_update': 5, 'record_timestamp': 6})\n",
      "Row(('RBX0007', 'OUVERT', 24, 85, '20', datetime.datetime(2024, 2, 5, 21, 8, tzinfo=datetime.timezone.utc), datetime.datetime(2024, 2, 5, 22, 10, 57, 315979, tzinfo=datetime.timezone.utc)), {'station_id': 0, 'state': 1, 'available': 2, 'max': 3, 'display': 4, 'last_update': 5, 'record_timestamp': 6})\n",
      "Row(('LIL0010', 'OUVERT', 38, 246, '35', datetime.datetime(2024, 2, 5, 21, 8, tzinfo=datetime.timezone.utc), datetime.datetime(2024, 2, 5, 22, 10, 57, 315989, tzinfo=datetime.timezone.utc)), {'station_id': 0, 'state': 1, 'available': 2, 'max': 3, 'display': 4, 'last_update': 5, 'record_timestamp': 6})\n",
      "Row(('TCG0001', 'FERME', 67, 434, 'FERME', datetime.datetime(2024, 2, 5, 21, 8, tzinfo=datetime.timezone.utc), datetime.datetime(2024, 2, 5, 22, 10, 57, 315991, tzinfo=datetime.timezone.utc)), {'station_id': 0, 'state': 1, 'available': 2, 'max': 3, 'display': 4, 'last_update': 5, 'record_timestamp': 6})\n",
      "Row(('VAQ0003', '.', 0, 1000, '.', datetime.datetime(2024, 2, 5, 21, 8, tzinfo=datetime.timezone.utc), datetime.datetime(2024, 2, 5, 22, 10, 57, 315993, tzinfo=datetime.timezone.utc)), {'station_id': 0, 'state': 1, 'available': 2, 'max': 3, 'display': 4, 'last_update': 5, 'record_timestamp': 6})\n"
     ]
    }
   ],
   "source": [
    "# query to check if the data has been inserted\n",
    "query = \"\"\"\n",
    "    SELECT *\n",
    "    FROM `parkings-mel.parkings_mel.records`\n",
    "    LIMIT 5\n",
    "\"\"\"\n",
    "query_job = client.query(query)\n",
    "results = query_job.result()\n",
    "for row in results:\n",
    "    print(row)"
   ]
  },
  {
   "cell_type": "code",
   "execution_count": null,
   "metadata": {},
   "outputs": [],
   "source": []
  }
 ],
 "metadata": {
  "kernelspec": {
   "display_name": "base",
   "language": "python",
   "name": "python3"
  },
  "language_info": {
   "codemirror_mode": {
    "name": "ipython",
    "version": 3
   },
   "file_extension": ".py",
   "mimetype": "text/x-python",
   "name": "python",
   "nbconvert_exporter": "python",
   "pygments_lexer": "ipython3",
   "version": "3.10.12"
  }
 },
 "nbformat": 4,
 "nbformat_minor": 2
}
